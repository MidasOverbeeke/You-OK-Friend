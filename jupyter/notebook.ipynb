{
 "cells": [
  {
   "cell_type": "markdown",
   "id": "faf93ae9-a489-45bf-922e-4e198662cd5e",
   "metadata": {},
   "source": [
    "## Import dependencies and data"
   ]
  },
  {
   "cell_type": "markdown",
   "id": "c4cfeb82",
   "metadata": {},
   "source": [
    "This is the Jupyter Notebook we used to set up the AI behind \"You OK Friend?\".\n",
    "\n",
    "We used the following libraries:\n",
    "\n",
    "- pytorch version 2.1.0\n",
    "- numpy version 1.26.0\n",
    "- pandas version 2.1.1\n",
    "- matplotlib version 3.8.0\n",
    "- datasets version 2.14.6\n",
    "- sklearn version 1.3.2\n",
    "- huggingface transformers version 4.32.1"
   ]
  },
  {
   "cell_type": "code",
   "execution_count": 1,
   "id": "1ec3f326-b8b8-4aef-8fc4-86c7ec4b2778",
   "metadata": {},
   "outputs": [
    {
     "name": "stdout",
     "output_type": "stream",
     "text": [
      "Files found: Datasets\\Suicide_Detection.csv\n"
     ]
    }
   ],
   "source": [
    "import os\n",
    "import torch\n",
    "import torch.nn as nn\n",
    "import torch.optim as optim\n",
    "import numpy as np # linear algebra\n",
    "import pandas as pd # data processing, CSV file I/O (e.g. pd.read_csv)\n",
    "import matplotlib.pyplot as plt\n",
    "from datasets import load_metric\n",
    "from sklearn.utils import shuffle\n",
    "from sklearn import preprocessing\n",
    "from sklearn.model_selection import train_test_split\n",
    "from datasets import Dataset\n",
    "from transformers import pipeline\n",
    "from transformers import AutoTokenizer\n",
    "from transformers import AutoModelForSequenceClassification\n",
    "from transformers import DataCollatorWithPadding\n",
    "from transformers import TrainingArguments, Trainer\n",
    "from sklearn.metrics import classification_report\n",
    "\n",
    "# start importing the dataset\n",
    "dirname = os.getcwd()\n",
    "for dirname, _, filenames in os.walk('Datasets'):\n",
    "    for filename in filenames:\n",
    "        print(\"Files found: \" + os.path.join(dirname, filename))\n",
    "df = pd.read_csv(\"Datasets/Suicide_Detection.csv\").iloc[:1000] # not all the data, because it yields bad results\n",
    "\n",
    "# shuffle data\n",
    "df = shuffle(df)\n"
   ]
  },
  {
   "cell_type": "markdown",
   "id": "b4979c1a",
   "metadata": {},
   "source": [
    "## Data exploration"
   ]
  },
  {
   "cell_type": "code",
   "execution_count": 2,
   "id": "deb520b2",
   "metadata": {},
   "outputs": [
    {
     "name": "stdout",
     "output_type": "stream",
     "text": [
      "      Unnamed: 0                                               text  \\\n",
      "2235        3345  This loneliness...This loneliness is just so b...   \n",
      "4672        7014  I just wanted to say thanksThank you for all t...   \n",
      "1105        1641  West Virginia has coal, opioids, and the worst...   \n",
      "1966        2939  Im bored  filler   filler   filler   filler   ...   \n",
      "1799        2684  Parents continually telling me to \"try harder\"...   \n",
      "\n",
      "            class  \n",
      "2235      suicide  \n",
      "4672      suicide  \n",
      "1105  non-suicide  \n",
      "1966  non-suicide  \n",
      "1799      suicide  \n",
      "\n",
      "This loneliness.... This loneliness is just so bad, like I said in a post before why should I feel this way? Well it's getting worse, I want this pain to stop and maybe... maybe doing this might end this pain. I feel so unimportant and useless and this loneliness is making me shake so much. I don't know what to do...\n"
     ]
    },
    {
     "data": {
      "image/png": "[encoded data removed]",
      "text/plain": [
       "<Figure size 640x480 with 1 Axes>"
      ]
     },
     "metadata": {},
     "output_type": "display_data"
    },
    {
     "name": "stderr",
     "output_type": "stream",
     "text": [
      "C:\\Program_Files\\Anaconda3\\envs\\appmattmidas\\Lib\\site-packages\\pyarrow\\pandas_compat.py:373: FutureWarning: is_sparse is deprecated and will be removed in a future version. Check `isinstance(dtype, pd.SparseDtype)` instead.\n",
      "  if _pandas_api.is_sparse(col):\n"
     ]
    },
    {
     "data": {
      "application/vnd.jupyter.widget-view+json": {
       "model_id": "779b77d92b0d4223897d6348f48bd1d8",
       "version_major": 2,
       "version_minor": 0
      },
      "text/plain": [
       "Map:   0%|          | 0/4000 [00:00<?, ? examples/s]"
      ]
     },
     "metadata": {},
     "output_type": "display_data"
    },
    {
     "data": {
      "application/vnd.jupyter.widget-view+json": {
       "model_id": "9b0bf0c79a554c53966c3184c218afc7",
       "version_major": 2,
       "version_minor": 0
      },
      "text/plain": [
       "Map:   0%|          | 0/1000 [00:00<?, ? examples/s]"
      ]
     },
     "metadata": {},
     "output_type": "display_data"
    }
   ],
   "source": [
    "# see if there is anything in the dataset\n",
    "# print(df.info)\n",
    "print(df.head())\n",
    "\n",
    "# print one text as a whole\n",
    "# print(f'\\n{df[\"text\"][0]}')\n",
    "\n",
    "# as we can see, the title and text are not seperated by a space. Let's fix that.\n",
    "# note: for now only works if body starts with capital letter\n",
    "# TODO: remove hyperlinks, \\n, summary dots, emoji's\n",
    "for j in range(len(df[\"text\"])):\n",
    "    for i in range(len(df[\"text\"][j])):\n",
    "        if i!=0:\n",
    "            if df[\"text\"][j][i].isupper() and df[\"text\"][j][i-1]!=\" \":\n",
    "                df.loc[j,\"text\"] = df.loc[j,\"text\"][:i] + '. ' + df.loc[j,\"text\"][i:]\n",
    "                break\n",
    "\n",
    "# check if it worked\n",
    "print(f'\\n{df.iloc[0].text}')\n",
    "\n",
    "# check if there is an even distrubution of suicidal and non-suicidal cases\n",
    "plt.bar([\"suicide\",\"non-suicide\"],[df['class'].value_counts()['suicide'],df['class'].value_counts()['non-suicide']])\n",
    "plt.show()\n",
    "\n",
    "# convert class to label\n",
    "le = preprocessing.LabelEncoder()\n",
    "le.fit(df[\"class\"].tolist())\n",
    "df['label'] = le.transform(df[\"class\"].tolist())\n",
    "# print(df.head())\n",
    "\n",
    "# split dataset in train and test\n",
    "df_train,df_test = train_test_split(df,test_size=0.2)\n",
    "\n",
    "# convert to Huggingface Dataset\n",
    "train_dataset = Dataset.from_pandas(df_train)\n",
    "test_dataset = Dataset.from_pandas(df_test)\n",
    "\n",
    "# convert to tokens\n",
    "tokenizer = AutoTokenizer.from_pretrained(\"distilbert-base-uncased\")\n",
    "def preprocess_function(examples):\n",
    "    return tokenizer(examples[\"text\"], truncation=True)\n",
    "tokenized_train = train_dataset.map(preprocess_function, batched=True)\n",
    "tokenized_test = test_dataset.map(preprocess_function, batched=True)"
   ]
  },
  {
   "cell_type": "markdown",
   "id": "072acd5c",
   "metadata": {},
   "source": [
    "## AI code"
   ]
  },
  {
   "cell_type": "code",
   "execution_count": 3,
   "id": "42f2d134",
   "metadata": {},
   "outputs": [
    {
     "name": "stderr",
     "output_type": "stream",
     "text": [
      "Some weights of DistilBertForSequenceClassification were not initialized from the model checkpoint at distilbert-base-uncased and are newly initialized: ['classifier.weight', 'pre_classifier.weight', 'pre_classifier.bias', 'classifier.bias']\n",
      "You should probably TRAIN this model on a down-stream task to be able to use it for predictions and inference.\n",
      "C:\\Users\\Midas\\AppData\\Local\\Temp\\ipykernel_16652\\286164358.py:6: FutureWarning: load_metric is deprecated and will be removed in the next major version of datasets. Use 'evaluate.load' instead, from the new library 🤗 Evaluate: https://huggingface.co/docs/evaluate\n",
      "  metric = load_metric('accuracy')\n",
      "You're using a DistilBertTokenizerFast tokenizer. Please note that with a fast tokenizer, using the `__call__` method is faster than using a method to encode the text followed by a call to the `pad` method to get a padded encoding.\n"
     ]
    },
    {
     "data": {
      "text/html": [
       "\n",
       "    <div>\n",
       "      \n",
       "      <progress value='2500' max='2500' style='width:300px; height:20px; vertical-align: middle;'></progress>\n",
       "      [2500/2500 1:05:51, Epoch 5/5]\n",
       "    </div>\n",
       "    <table border=\"1\" class=\"dataframe\">\n",
       "  <thead>\n",
       " <tr style=\"text-align: left;\">\n",
       "      <th>Epoch</th>\n",
       "      <th>Training Loss</th>\n",
       "      <th>Validation Loss</th>\n",
       "      <th>Accuracy</th>\n",
       "    </tr>\n",
       "  </thead>\n",
       "  <tbody>\n",
       "    <tr>\n",
       "      <td>1</td>\n",
       "      <td>0.451600</td>\n",
       "      <td>0.655942</td>\n",
       "      <td>0.527000</td>\n",
       "    </tr>\n",
       "    <tr>\n",
       "      <td>2</td>\n",
       "      <td>0.456300</td>\n",
       "      <td>0.393909</td>\n",
       "      <td>0.885000</td>\n",
       "    </tr>\n",
       "    <tr>\n",
       "      <td>3</td>\n",
       "      <td>0.388900</td>\n",
       "      <td>0.348143</td>\n",
       "      <td>0.898000</td>\n",
       "    </tr>\n",
       "    <tr>\n",
       "      <td>4</td>\n",
       "      <td>0.280900</td>\n",
       "      <td>0.319857</td>\n",
       "      <td>0.917000</td>\n",
       "    </tr>\n",
       "    <tr>\n",
       "      <td>5</td>\n",
       "      <td>0.226600</td>\n",
       "      <td>0.292646</td>\n",
       "      <td>0.917000</td>\n",
       "    </tr>\n",
       "  </tbody>\n",
       "</table><p>"
      ],
      "text/plain": [
       "<IPython.core.display.HTML object>"
      ]
     },
     "metadata": {},
     "output_type": "display_data"
    }
   ],
   "source": [
    "# initialise model based on bert\n",
    "model = AutoModelForSequenceClassification.from_pretrained(\"distilbert-base-uncased\", num_labels=2)\n",
    "\n",
    "# setup train model\n",
    "data_collator = DataCollatorWithPadding(tokenizer=tokenizer)\n",
    "metric = load_metric('accuracy')\n",
    "def compute_metrics(eval_pred):\n",
    "    logits, labels = eval_pred\n",
    "    predictions = np.argmax(logits, axis=-1)\n",
    "    return metric.compute(predictions=predictions, references=labels)\n",
    "training_args = TrainingArguments(\n",
    "    output_dir=\"./results\",\n",
    "    learning_rate=2e-4,\n",
    "    per_device_train_batch_size=8,\n",
    "    per_device_eval_batch_size=8,\n",
    "    num_train_epochs=5,\n",
    "    weight_decay=0.01,\n",
    "    evaluation_strategy = \"epoch\",\n",
    "    logging_strategy=\"epoch\"\n",
    ")\n",
    "trainer = Trainer(\n",
    "    model=model,\n",
    "    args=training_args,\n",
    "    train_dataset=tokenized_train,\n",
    "    eval_dataset=tokenized_test,\n",
    "    tokenizer=tokenizer,\n",
    "    data_collator=data_collator,\n",
    "    compute_metrics=compute_metrics\n",
    ")\n",
    "\n",
    "# start training and save when done\n",
    "retrain = True\n",
    "if retrain:\n",
    "    trainer.train()\n",
    "    trainer.save_model('modelv0.1')"
   ]
  },
  {
   "cell_type": "code",
   "execution_count": 4,
   "id": "cecf6d76",
   "metadata": {},
   "outputs": [
    {
     "data": {
      "text/html": [],
      "text/plain": [
       "<IPython.core.display.HTML object>"
      ]
     },
     "metadata": {},
     "output_type": "display_data"
    },
    {
     "name": "stdout",
     "output_type": "stream",
     "text": [
      "              precision    recall  f1-score   support\n",
      "\n",
      "           0       0.96      0.94      0.95      2004\n",
      "           1       0.94      0.96      0.95      1996\n",
      "\n",
      "    accuracy                           0.95      4000\n",
      "   macro avg       0.95      0.95      0.95      4000\n",
      "weighted avg       0.95      0.95      0.95      4000\n",
      "\n"
     ]
    },
    {
     "data": {
      "text/html": [],
      "text/plain": [
       "<IPython.core.display.HTML object>"
      ]
     },
     "metadata": {},
     "output_type": "display_data"
    },
    {
     "name": "stdout",
     "output_type": "stream",
     "text": [
      "              precision    recall  f1-score   support\n",
      "\n",
      "           0       0.93      0.91      0.92       527\n",
      "           1       0.90      0.93      0.91       473\n",
      "\n",
      "    accuracy                           0.92      1000\n",
      "   macro avg       0.92      0.92      0.92      1000\n",
      "weighted avg       0.92      0.92      0.92      1000\n",
      "\n"
     ]
    }
   ],
   "source": [
    "if retrain:\n",
    "    # evluate model on training data\n",
    "    preds = trainer.predict(tokenized_train)\n",
    "    preds = np.argmax(preds[:3][0],axis=1)\n",
    "    GT = df_train['label'].tolist()\n",
    "    print(classification_report(GT,preds))\n",
    "\n",
    "    # evaluate model on test data\n",
    "    preds = trainer.predict(tokenized_test)\n",
    "    preds = np.argmax(preds[:3][0],axis=1) #preds[:3][1]\n",
    "    GT = df_test['label'].tolist()\n",
    "    print(classification_report(GT,preds))"
   ]
  },
  {
   "cell_type": "code",
   "execution_count": 5,
   "id": "a2666fa3",
   "metadata": {},
   "outputs": [
    {
     "name": "stdout",
     "output_type": "stream",
     "text": [
      "Hey how are you doing, i'm not gonna do anything to myself but i need your help. I'm doing great btw\n",
      "My kid just beat cancer, probably.\n",
      "\n",
      "It's probably non-suicial, I'm 95.51% sure\n"
     ]
    }
   ],
   "source": [
    "# experiment how to input text and predict on the model\n",
    "sampletext = '''Hey my name is Midas and lately i've been feeling down. I don't seem to be interested in my hobbies \n",
    "like I used to. I'm worried I will end up alone and collapse under the loneliness. What if I'll harm myself in the long run?\n",
    "Should I seek help or am I just overreacting?\n",
    "'''\n",
    "sampletext2 = '''If you're happy and you know it clap your hands\n",
    "If you're happy and you know it clap your hands\n",
    "If you're happy and you know it and you really want to show it\n",
    "If you're happy and you know it clap your hands\n",
    "'''\n",
    "sampletext3 = '''Hey how are you doing, i'm not gonna do anything to myself but i need your help. I'm doing great btw\n",
    "My kid just beat cancer, probably.\n",
    "'''\n",
    "\n",
    "# load tokenizer\n",
    "tokenizer = AutoTokenizer.from_pretrained(\"distilbert-base-uncased\")\n",
    "# load model\n",
    "model = AutoModelForSequenceClassification.from_pretrained(\"./modelv0.1\")\n",
    "# initialize pipeline\n",
    "classifier = pipeline(\"sentiment-analysis\", model=model, tokenizer=tokenizer)\n",
    "\n",
    "# input text and print the prediction\n",
    "def predict(text):\n",
    "    pred = classifier(text)[0]\n",
    "    if pred[\"label\"] == 'LABEL_0':\n",
    "        return f'It\\'s probably non-suicial, I\\'m {round(pred[\"score\"]*100,2)}% sure'\n",
    "    if pred[\"label\"] == 'LABEL_1':\n",
    "        return f'It\\'s probably suicial, I\\'m {round(pred[\"score\"]*100,2)}% sure'\n",
    "    \n",
    "print(sampletext3)\n",
    "print(predict(sampletext3))"
   ]
  },
  {
   "cell_type": "code",
   "execution_count": null,
   "id": "24dbaf9f",
   "metadata": {},
   "outputs": [],
   "source": []
  }
 ],
 "metadata": {
  "kernelspec": {
   "display_name": "Python 3 (ipykernel)",
   "language": "python",
   "name": "python3"
  },
  "language_info": {
   "codemirror_mode": {
    "name": "ipython",
    "version": 3
   },
   "file_extension": ".py",
   "mimetype": "text/x-python",
   "name": "python",
   "nbconvert_exporter": "python",
   "pygments_lexer": "ipython3",
   "version": "3.11.5"
  }
 },
 "nbformat": 4,
 "nbformat_minor": 5
}
